{
  "nbformat": 4,
  "nbformat_minor": 0,
  "metadata": {
    "colab": {
      "name": "Ramsey_model.ipynb",
      "provenance": [],
      "collapsed_sections": [],
      "toc_visible": true
    },
    "kernelspec": {
      "name": "python3",
      "display_name": "Python 3"
    },
    "language_info": {
      "name": "python"
    }
  },
  "cells": [
    {
      "cell_type": "markdown",
      "metadata": {
        "id": "K4_SMX1W0pki"
      },
      "source": [
        "# Advanced Macro I\n"
      ]
    },
    {
      "cell_type": "code",
      "metadata": {
        "id": "Lvz7zstJBzec"
      },
      "source": [
        "# Import necessary libraries\n",
        "# Plotting library, including specific imports for animations\n",
        "import matplotlib.pyplot as plt\n",
        "from matplotlib import rc\n",
        "import matplotlib.animation as animation\n",
        "# Numerical computing library\n",
        "import numpy as np\n",
        "# Special option to display animations within a Colab notebok\n",
        "rc('animation', html='jshtml')"
      ],
      "execution_count": null,
      "outputs": []
    },
    {
      "cell_type": "code",
      "metadata": {
        "id": "g6WN34ziB5GE"
      },
      "source": [
        "# Set the exogenous variables\n",
        "theta = 0.5   # 1/theta is willingness to shift consumption between different periods\n",
        "rho = 0.01    # Discount rate\n",
        "n = 0.009     # Household growth rate\n",
        "g = 0.002     # Technology growth rate\n",
        "alpha = 0.2   # Capital share of output\n",
        "\n",
        "# Make sure the parameters are within the allowed ranges\n",
        "if not (0 < alpha < 1):\n",
        "  raise \"alpha must be between 0 and 1\"\n",
        "if not theta > 0:\n",
        "  raise \"theta must be positive\"\n",
        "if not rho - n - (1 - theta) * g > 0:\n",
        "  raise \"rho - n - (1 - theta) * g must be positive\""
      ],
      "execution_count": null,
      "outputs": []
    },
    {
      "cell_type": "markdown",
      "metadata": {
        "id": "1UH8nl_N2ycs"
      },
      "source": [
        "# Laws of motion of the economy\n",
        "Following Romer (2012, chapter 2.2), recall that the equations governing the dynamics of the economy are given by equation (2.24):\n",
        "$$\n",
        "\\frac{\\dot{c}(t)}{c(t)} = \\frac{f^\\prime(k(t)) - \\rho - \\theta g}{\\theta}\n",
        "$$\n",
        "\n",
        "and equation (2.25):\n",
        "$$\\dot{k}(t) = f(k(t)) - c(t) - (n + g) k(t)$$\n",
        "\n",
        "These two equations build a *system of differential equations*. Solving such systems by hand is generally hard, however, with programming languages we can let computers do the heavy lifting for us.\n",
        "\n",
        "In this notebook, we will take a look at a graphical solution for these equations, also known phase diagrams, as well as a numerical solution using Python. While there exist packages to solve differential equations such as [SciPy](https://www.scipy.org/), we will write our own implementation as this is more educational.\n"
      ]
    },
    {
      "cell_type": "markdown",
      "metadata": {
        "id": "uWXDgb2PC3Zo"
      },
      "source": [
        "### Finding the level of $k$ that implies $\\dot{c} = 0$\n",
        "Consider the equation (2.24) in Romer:\n",
        "$$\n",
        "\\frac{\\dot{c}(t)}{c(t)} = \\frac{f^\\prime(k(t)) - \\rho - \\theta g}{\\theta}\n",
        "$$\n",
        "Given this equation, we can find $k^\\star$, the level of $k$ for which $\\dot{c} = 0$, this is given by:\n",
        "$$\\begin{aligned}\n",
        "0 &= \\frac{f^\\prime(k^\\star) - \\rho - \\theta g}{\\theta} \\\\\n",
        "k^\\star &= f^{\\prime{-1}}(\\rho + \\theta g)\n",
        "\\end{aligned}\n",
        "$$\n",
        "If we take $f(x) = x^\\alpha$ to be the intensive form of the production function, this gives the first derivative\n",
        "$f^\\prime(x) = \\alpha x^{\\alpha-1}$.  \n",
        "\n",
        "Hence $f^{\\prime{-1}}(x) = \\left(\\frac{x}{\\alpha}\\right)^\\frac{1}{\\alpha-1}$ and $k^\\star = f^{\\prime{-1}}(\\rho + \\theta g) = \\left(\\frac{\\rho+\\theta g}{\\alpha}\\right)^\\frac{1}{\\alpha-1}$."
      ]
    },
    {
      "cell_type": "code",
      "metadata": {
        "colab": {
          "base_uri": "https://localhost:8080/"
        },
        "id": "rp8EQnmSHPZw",
        "outputId": "94bf946d-078c-47d7-9497-5c21f2b777df"
      },
      "source": [
        "# Create a function to compute f' inverse\n",
        "def f_prime_inv(x):\n",
        "  return (x / alpha)**(1 / (alpha - 1))\n",
        "# Compute k* using the above function\n",
        "k_star = f_prime_inv(rho + theta * g)\n",
        "k_star  # Display the result"
      ],
      "execution_count": null,
      "outputs": [
        {
          "output_type": "execute_result",
          "data": {
            "text/plain": [
              "37.54452707246351"
            ]
          },
          "metadata": {
            "tags": []
          },
          "execution_count": 53
        }
      ]
    },
    {
      "cell_type": "markdown",
      "metadata": {
        "id": "0tD6gH8TLkTZ"
      },
      "source": [
        "## Finding the level of $c$ that implies $\\dot{k} = 0$\n",
        "\n",
        "Similarly, we can find the level of $c$ that implies $\\dot{k} = 0$ by considering the equation (2.5) in Romer:\n",
        "$$\\dot{k}(t) = f(k(t)) - c(t) - (n + g) k(t)$$\n",
        "\n",
        "We denote the level of $c$ which gives $\\dot{k} = 0$ by $c^\\star$ and it is equal to:\n",
        "$$\\begin{aligned}\n",
        "0 &= f(k(t)) - c^\\star - (n + g) k(t) \\\\\n",
        "c^\\star &= f(k(t)) - (n + g) k(t)\n",
        "\\end{aligned}$$\n",
        "\n",
        "While we could represent $k^\\star$ by a constant, $c^\\star$ depends on the level of $k(t)$, hence we can only represent it as a function of $k$."
      ]
    },
    {
      "cell_type": "code",
      "metadata": {
        "id": "AeWFcY-kL0yT"
      },
      "source": [
        "# Create a function to compute f, the intensive form of the production function\n",
        "def f(x):\n",
        "  return x**alpha\n",
        "# Create a function to compute c* given the level of k\n",
        "def c_star(k):\n",
        "  return f(k) - (n + g) * k"
      ],
      "execution_count": null,
      "outputs": []
    },
    {
      "cell_type": "markdown",
      "metadata": {
        "id": "VmQRQYK6OgGa"
      },
      "source": [
        "## Plotting the dynamics of $c$ and $k$\n",
        "Now that we have computed the necessary information, we can replicate the figure 2.3 in Romer given our levels of $\\theta$, $\\rho$, $n$, $g$, and $\\alpha$ (which can be changed freely in the first cell of this notebook, just make sure to re-run all cells after making changes).\n",
        "\n",
        "Note that $c^\\star = 0$ happens either at $k(t) = 0$ or $k(t) = (n + g)^{\\frac{1}{\\alpha-1}}$, hence we must define the x-axis on our plot to range from $0$ to $(n + g)^{\\frac{1}{\\alpha-1}}$ if we want to show the whole curve where $\\dot{k} = 0$ for any parameter combination."
      ]
    },
    {
      "cell_type": "code",
      "metadata": {
        "id": "oIE1QMQuL007"
      },
      "source": [
        "# 1000 linearly spaced numbers between both points where c* = 0, this will be our x-axis\n",
        "k = np.linspace(0, pow(n + g, 1 / (alpha - 1)), 1000)\n",
        "# Set up a figure\n",
        "fig, ax = plt.subplots(figsize = (12, 8))\n",
        "# Add a green line with x values given by k and y values given by c*(k)\n",
        "ax.plot(k, c_star(k), color = 'green', label = \"k̇ = 0\")\n",
        "# Add a vertical line at k*\n",
        "ax.axvline(k_star, color = 'blue', label = \"ċ = 0\")\n",
        "ax.set_xlabel(\"k\")                        # Add x-axis label\n",
        "ax.set_ylabel(\"c\")                        # Add y-axis label\n",
        "ax.set_title(\"The dynamics of c and k\")   # Add plot title\n",
        "ax.grid()                                 # Add a grid in the background\n",
        "ax.legend()                               # Add legend (show labels top right)\n",
        "plt.show()                                # Display the plot"
      ],
      "execution_count": null,
      "outputs": []
    },
    {
      "cell_type": "markdown",
      "metadata": {
        "id": "I5-QKKHvWCDM"
      },
      "source": [
        "The plot is similar to that of figure 2.3 in Romer, however, we have not yet added the arrows which show the dynamics of the system. While we could add them manually, this is bothersome as we would need to write some code for each individual arrow. Instead, we'll make use of the tools `matplotlib` offers and create a so called *quiver plot*. Quiver plots are vector fields which can be used to show the dynamics of a system and are very common when dealing with differential equations.\n",
        "\n",
        "Quiver plots allow us to plot a grid of arrows/vectors, where each vector represents both the direction (vector orientation) and intensity (vector length) of changes within the dynamical system."
      ]
    },
    {
      "cell_type": "code",
      "metadata": {
        "id": "v0H0lw6ha5gL"
      },
      "source": [
        "# In order to compute the direction and intensity of changes within the system,\n",
        "# we need to set up a few functions allowing us to measure the underlying differential equations\n",
        "\n",
        "# Create a function to compute the derivative of the production function (see above equations)\n",
        "def f_prime(x):\n",
        "  return alpha * x**(alpha - 1)\n",
        "# Create a function for the derivative of k(t) w.r.t time\n",
        "def k_dot(k, c):\n",
        "  return f(k) - c - (n + g) * k\n",
        "# Create a function for the derivative of c(t) w.r.t. time\n",
        "def c_dot(k, c):\n",
        "  return (f_prime(k) - rho - theta * g) / theta * c"
      ],
      "execution_count": null,
      "outputs": []
    },
    {
      "cell_type": "code",
      "metadata": {
        "id": "7uSgsOVGL03L"
      },
      "source": [
        "# Set up the vector grid parameters\n",
        "# Square of the number of points in our grid\n",
        "n_points = 15\n",
        "# Create a grid (for the points on the plot where vectors are drawn)\n",
        "x, y = np.meshgrid(\n",
        "    np.linspace(3, max(k), n_points), \n",
        "    np.linspace(0.001, max(c_star(k) * 1.5), n_points))\n",
        "# Compute the x component of each vector\n",
        "u = k_dot(x, y)\n",
        "# Compute the y component of each vector\n",
        "v = c_dot(x, y)\n",
        "# Create a figure\n",
        "fig, ax = plt.subplots(figsize = (14, 10))\n",
        "# Add a green line with x values given by k and y values given by c*(k)\n",
        "ax.plot(k, c_star(k), color = 'green', label = \"k̇ = 0\")\n",
        "# Add a vertical line at k*\n",
        "ax.axvline(k_star, color = 'blue', label = 'ċ = 0')\n",
        "# Add a single black point at (x, y) = (k*, c*), this is our equilibrium\n",
        "ax.plot([k_star], [c_star(k_star)], 'o', color = 'black')\n",
        "# Annotate the point with the letter E\n",
        "ax.annotate('E', xy = (k_star + 1, c_star(k_star)), size = 20)\n",
        "# Add the vector field, showing how the dynamics of the system behave\n",
        "ax.quiver(x, y, u, v, pivot = 'mid', color = 'gray', angles='xy', \n",
        "           scale_units='xy', scale = 0.25, minlength = 0.5)\n",
        "ax.set_xlabel(\"k\")                        # Add x-axis label\n",
        "ax.set_ylabel(\"c\")                        # Add y-axis label\n",
        "ax.set_title(\"The dynamics of c and k\")   # Add plot title\n",
        "ax.grid()                                 # Add a grid in the background\n",
        "ax.legend()                               # Add legend (show labels top right)"
      ],
      "execution_count": null,
      "outputs": []
    },
    {
      "cell_type": "markdown",
      "metadata": {
        "id": "pTGOnL5smqFp"
      },
      "source": [
        "The above picture is very similar to figure 2.3 in Romer, however, it has the advantage of giving a better intuition about the full dynamics within the system. Indeed, it is much easier to see from this picture that some changes in the state of the economy will be much more drastic then others, depending on where the current state of the economy is."
      ]
    },
    {
      "cell_type": "markdown",
      "metadata": {
        "id": "RET6a_dZtCDq"
      },
      "source": [
        "We continue by building a function which, given an starting point $(k, c)$ on our plot, computes the evolution of the economy according to the law of motions defined in equation (2.24) and (2.25). The idea behind this function is a simple iteration through time, where at each time step we simply add the derivative $\\dot{k}$ to the current $k$ and the derivative $\\dot{c}$ to the current $c$."
      ]
    },
    {
      "cell_type": "code",
      "metadata": {
        "id": "PKbqUlK-nu8A"
      },
      "source": [
        "# Create a function which returns an array containing the trajectory of the \n",
        "# economy starting a (k, c) for T time periods\n",
        "def trajectory(k, c, T = 1000):\n",
        "  # Initialize 2 arrays for the evolution of k and c\n",
        "  k = [k]\n",
        "  c = [c] \n",
        "  # Iterate over the time periods and compute the evolution of k and c\n",
        "  for t in range(T):\n",
        "    # Compute the increments for k and c, saving them allows to reuse them\n",
        "    # when checking the early stopping conditions\n",
        "    kd = k_dot(k[t], c[t])\n",
        "    cd = c_dot(k[t], c[t])\n",
        "    # Append the increments to the existing lists of values\n",
        "    k.append(k[t] + kd)\n",
        "    c.append(c[t] + cd)\n",
        "    # Early stopping condition\n",
        "    if (kd == cd == 0) or (k[-1] <= 0) or (c[-1] <= 0): \n",
        "      break\n",
        "  return np.asarray(k), np.asarray(c)"
      ],
      "execution_count": null,
      "outputs": []
    },
    {
      "cell_type": "code",
      "metadata": {
        "id": "Ic9X3BBxjRhU"
      },
      "source": [
        "# Finding a starting point which will end up in the equilibrium E is slightly more complicated\n",
        "def reverse_trajectory(k_star, T = 150, eps = 0.01):\n",
        "  # Initialize 2 arrays for the evolution of k and c but starting in [k_star, c_star]\n",
        "  k = [k_star]\n",
        "  c = [c_star(k_star)]\n",
        "  # Add a slight perturbation (±eps%) from the equilibrium to get a point with non-zero derivatives\n",
        "  k.append(k[0] * (1 + eps))\n",
        "  c.append(c[0] * (1 + eps))\n",
        "  for t in range(1, T):\n",
        "    # Compute the increments for k and c towards the equilibrium and subtract them\n",
        "    # from the current position\n",
        "    kd = k_dot(k[t], c[t])\n",
        "    cd = c_dot(k[t], c[t])\n",
        "    k.append(k[t] - kd)\n",
        "    c.append(c[t] - cd)\n",
        "  # Return the reversed arrays for k and c\n",
        "  return np.asarray(k[::-1]), np.asarray(c[::-1])"
      ],
      "execution_count": null,
      "outputs": []
    },
    {
      "cell_type": "code",
      "metadata": {
        "id": "1bLHVGTenYVA"
      },
      "source": [
        "# Iterate over some 'randomly' chosen starting points and plot the evolution of the economy\n",
        "# Notice we do not create a new figure, we simply add the trajectories to the existing\n",
        "# figure we previously created\n",
        "for kc in [(5, 0.6, 'A'), (15, 0.6, 'B'), (50, 2.1, 'C'), (60, 2.0, 'D'), (175, 2.0, 'F')]:\n",
        "  # Compute the x and y arrays using the trajectory function we defined above\n",
        "  x, y = trajectory(kc[0], kc[1])\n",
        "  ax.plot(x, y, '--', color = 'orange')         # Draw the paths as a dashed line\n",
        "  ax.plot(kc[0], kc[1], 'o', color = 'orange')  # Add a dot at the starting point\n",
        "  ax.annotate(kc[2], xy = kc[:2], size = 18)    # Add a letter at each starting point\n",
        "# Add the trajectories which ends up in the equilibirum\n",
        "x, y = reverse_trajectory(k_star, T = 150)\n",
        "ax.plot(x, y, '--', color = 'purple')\n",
        "ax.plot(x[0], y[0], 'o', color = 'purple')\n",
        "ax.annotate('G', xy = (x[0], y[0]), size = 18)\n",
        "x, y = reverse_trajectory(k_star, eps = -0.01, T = 160)\n",
        "ax.plot(x, y, '--', color = 'purple')\n",
        "ax.plot(x[0], y[0], 'o', color = 'purple')\n",
        "ax.annotate('H', xy = (x[0], y[0]), size = 18)\n",
        "# Restrain the y-axis so that it cuts off the paths of A and C as these 'explode'\n",
        "ax.set_ylim(bottom = -0.1, top = max(c_star(k) * 1.5) + 0.1)\n",
        "fig                                             # Display the figure"
      ],
      "execution_count": null,
      "outputs": []
    },
    {
      "cell_type": "markdown",
      "metadata": {
        "id": "8aiUVRDmiYXP"
      },
      "source": [
        "The above picture shows the direction for the path of the economy in different starting positions, but in a completely static manner.\n",
        "\n",
        "We now add a time component using animations, i.e. we create an animation of how the economy develops over time starting in a given point."
      ]
    },
    {
      "cell_type": "code",
      "metadata": {
        "id": "zAFfbcDjgZ98"
      },
      "source": [
        "# Create a function to plot an animated evolution of the economy given a specific starting point\n",
        "def animated_plot(k_start, c_start):\n",
        "  # Create the plot\n",
        "  fig = plt.figure(figsize = (12, 8))\n",
        "  # Create a linear space of 1000 points between the two k values for which where c* = 0\n",
        "  k = np.linspace(0, pow(n + g, 1 / (alpha - 1)), 1000)\n",
        "  # Draw a green curve where k̇ = 0 and a blue line where ċ = 0\n",
        "  plt.plot(k, c_star(k), color = 'green', label = \"k̇ = 0\")\n",
        "  plt.axvline(k_star, color = 'blue', label = \"ċ = 0\")\n",
        "  plt.xlabel(\"k\")                       # Add x-axis label\n",
        "  plt.ylabel(\"c\")                       # Add y-axis label\n",
        "  plt.title(\"The dynamics of c and k\")  # Add plot title\n",
        "  plt.grid()                            # Add a grid\n",
        "  # Compute the evolution of k and c using our previously defined function\n",
        "  k, c = trajectory(k_start, c_start, 1000)\n",
        "  # Plot a dashed orange line (notice how it is initialized with empty arrays)\n",
        "  evolution_line,  = plt.plot([], [], '--', label = 'Economy trajectory',\n",
        "                              color = 'orange')\n",
        "  # Define how the evolution_line (the orange dashed line) evolves as a function of time\n",
        "  def animate(t):\n",
        "    # Instead of taking steps with linearly increasing size, we use a bit of a \n",
        "    # trick to take smaller steps in the start and larger steps as time goes by\n",
        "    step = int((t/50)**3 * len(k))\n",
        "    # Update the evolution_line data\n",
        "    evolution_line.set_data(k[:step], c[:step])\n",
        "    return evolution_line,\n",
        "  # Add legend and show the plot\n",
        "  plt.legend()\n",
        "  return animation.FuncAnimation(fig, animate, frames = 50, interval = 20, blit = True)"
      ],
      "execution_count": null,
      "outputs": []
    },
    {
      "cell_type": "code",
      "metadata": {
        "id": "TwxTwyr5jLW5"
      },
      "source": [
        "# Create an animation of the economy's evolution starting at a point (k = 150, c = 1.4)\n",
        "# Change the parameters of the function animated_plot() to see how different starting points behave\n",
        "anim = animated_plot(150, 1.4)\n",
        "plt.close()\n",
        "anim"
      ],
      "execution_count": null,
      "outputs": []
    }
  ]
}